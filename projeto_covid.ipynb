{
 "cells": [
  {
   "cell_type": "markdown",
   "id": "5f5a573c-da28-4c16-84c7-765239880ebd",
   "metadata": {},
   "source": [
    "# Projeto COVID-19\n",
    "## Digital Innovation One\n",
    "Primeiro vamos importar algumas das bibliotecas necessárias para o nosso projeto de hoje."
   ]
  },
  {
   "cell_type": "code",
   "execution_count": null,
   "id": "90609972-fdc9-4a20-8cac-ca27c763a623",
   "metadata": {},
   "outputs": [],
   "source": [
    "import pandas as pd\n",
    "import numpy as np\n",
    "from datetime import datetime\n",
    "import plotly.express as px\n"
   ]
  }
 ],
 "metadata": {
  "kernelspec": {
   "display_name": "Python 3 (ipykernel)",
   "language": "python",
   "name": "python3"
  },
  "language_info": {
   "codemirror_mode": {
    "name": "ipython",
    "version": 3
   },
   "file_extension": ".py",
   "mimetype": "text/x-python",
   "name": "python",
   "nbconvert_exporter": "python",
   "pygments_lexer": "ipython3",
   "version": "3.9.12"
  }
 },
 "nbformat": 4,
 "nbformat_minor": 5
}
